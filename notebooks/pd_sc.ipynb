{
 "cells": [
  {
   "cell_type": "markdown",
   "id": "5a4d71ec-65db-441b-a56b-31e27b65f8c9",
   "metadata": {},
   "source": [
    "`pd_sc` - Helpful Engineering's Project Data Supply Chain modeling and CLI\n",
    "\n",
    "> **License info:**\n",
    "> \n",
    "> Copyright (C) 2021  Robert L. Read <read.robert@gmail.com>\n",
    "> \n",
    "> This program is free software: you can redistribute it and/or modify it under the terms of the GNU Affero General Public License as published by the Free Software Foundation, either version 3 of the License, or (at your option) any later version.\n",
    "> \n",
    "> This program is distributed in the hope that it will be useful, but WITHOUT ANY WARRANTY; without even the implied warranty of MERCHANTABILITY or FITNESS FOR A PARTICULAR PURPOSE.  See the GNU Affero General Public License for more details.\n",
    "> \n",
    "> You should have received a copy of the GNU Affero General Public License along with this program.  If not, see <https://www.gnu.org/licenses/>."
   ]
  },
  {
   "cell_type": "code",
   "execution_count": 1,
   "id": "7dd0b779-8a22-4468-b005-f7a907055488",
   "metadata": {},
   "outputs": [],
   "source": [
    "import copy\n",
    "import functools as ft\n",
    "import pprint\n",
    "import unittest\n",
    "\n",
    "import sympy as sp\n",
    "\n",
    "# Instantiate JupyterLab from project root\n",
    "# or you will get \"ModuleNotFoundError: No module named 'src'\n",
    "import src.supply as supply\n",
    "import src.okf as okf"
   ]
  },
  {
   "cell_type": "code",
   "execution_count": null,
   "id": "5bba4ee2-14e8-4fdc-9f68-29393b3c2849",
   "metadata": {},
   "outputs": [],
   "source": []
  }
 ],
 "metadata": {
  "kernelspec": {
   "display_name": "Python 3 (ipykernel)",
   "language": "python",
   "name": "python3"
  },
  "language_info": {
   "codemirror_mode": {
    "name": "ipython",
    "version": 3
   },
   "file_extension": ".py",
   "mimetype": "text/x-python",
   "name": "python",
   "nbconvert_exporter": "python",
   "pygments_lexer": "ipython3",
   "version": "3.10.8"
  }
 },
 "nbformat": 4,
 "nbformat_minor": 5
}
