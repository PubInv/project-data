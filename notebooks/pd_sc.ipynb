{
 "cells": [
  {
   "cell_type": "markdown",
   "id": "5a4d71ec-65db-441b-a56b-31e27b65f8c9",
   "metadata": {},
   "source": [
    "`pd_sc` - Helpful Engineering's Project Data Supply Chain modeling and CLI\n",
    "\n",
    "> **License info:**\n",
    "> \n",
    "> Copyright (C) 2021  Robert L. Read <read.robert@gmail.com>\n",
    "> \n",
    "> This program is free software: you can redistribute it and/or modify it under the terms of the GNU Affero General Public License as published by the Free Software Foundation, either version 3 of the License, or (at your option) any later version.\n",
    "> \n",
    "> This program is distributed in the hope that it will be useful, but WITHOUT ANY WARRANTY; without even the implied warranty of MERCHANTABILITY or FITNESS FOR A PARTICULAR PURPOSE.  See the GNU Affero General Public License for more details.\n",
    "> \n",
    "> You should have received a copy of the GNU Affero General Public License along with this program.  If not, see <https://www.gnu.org/licenses/>.\n",
    "\n",
    "\n",
    "*This notebook is incomplete! These markdown blocks are useful for longform explanations.*"
   ]
  },
  {
   "cell_type": "code",
   "execution_count": 23,
   "id": "7dd0b779-8a22-4468-b005-f7a907055488",
   "metadata": {},
   "outputs": [],
   "source": [
    "import copy\n",
    "import functools as ft\n",
    "import pprint\n",
    "import unittest\n",
    "\n",
    "import sympy as sp\n",
    "\n",
    "# Instantiate JupyterLab from project root\n",
    "# or you will get \"ModuleNotFoundError: No module named 'src'\n",
    "import src.supply as supply\n",
    "import src.okf as okf\n",
    "import src.stage_graph as stage_graph"
   ]
  },
  {
   "cell_type": "markdown",
   "id": "e208d582-baeb-4662-8468-9f6a0e5c327a",
   "metadata": {},
   "source": [
    "Our most basic type is the \"Product Type\", but we will just use strings for these for now.\n",
    "\n",
    "The second type is the Supply, which is really short for \"SupplyCapability\". A Supply has inputs and output types, a name, and a characteristic equation.\n",
    "\n",
    "Here, we create a very basic set of supplies. First, we will create \"symbols\" (similar to lisp 'intern')."
   ]
  },
  {
   "cell_type": "code",
   "execution_count": 5,
   "id": "815f83ff-8b75-4b65-b0f7-0a5350d58ba5",
   "metadata": {},
   "outputs": [],
   "source": [
    "chair, leg, seat, back = supply.symbols(\"chair leg seat back\")\n",
    "fabric, plane = supply.symbols(\"fabric plane\")\n",
    "frame, stuffing = supply.symbols(\"frame stuffing\")\n",
    "upholstery = supply.symbols(\"upholstery\")\n",
    "\n",
    "# These are more or \"supplier\" constants\n",
    "chair_1, chair_2, leg_1, seat_1, seat_2, seat_3 = supply.symbols(\"chair_1 chair_2 leg_1 seat_1 seat_2 seat_3\")\n",
    "back_1, fabric_1, plane_1 = supply.symbols(\"back_1 fabric_1 plane_1\")\n",
    "fabric_2 = supply.symbols(\"fabric_2\")\n",
    "stuffing_1 = supply.symbols(\"stuffing_1\")"
   ]
  },
  {
   "cell_type": "code",
   "execution_count": 6,
   "id": "428b7f53-bc38-41cd-b738-531639b14052",
   "metadata": {},
   "outputs": [],
   "source": [
    "# This makes more sense as a dictionary;\n",
    "# However, the SymPy package uses a list of pairs (symbol, expression).\n",
    "price_map = [\n",
    "    (chair_1, 4),\n",
    "    (chair_2, 3),\n",
    "    (leg_1, 1),\n",
    "    (seat_1, 2),\n",
    "    (seat_2, 2),\n",
    "    (seat_3, 3),\n",
    "    (back_1, 3),\n",
    "    (fabric_1, 1),\n",
    "    (plane_1, 1),\n",
    "    (stuffing_1, 2)\n",
    "]"
   ]
  },
  {
   "cell_type": "markdown",
   "id": "834416ca-5aca-4d8c-91da-87c679edfa9d",
   "metadata": {},
   "source": [
    "todo! others might add better markdown blocks to explain these "
   ]
  },
  {
   "cell_type": "code",
   "execution_count": 8,
   "id": "4a8eafa5-09d3-4d01-9d91-5469afa9876b",
   "metadata": {},
   "outputs": [],
   "source": [
    "# Possibly we should create anonymous supply signatures...\n",
    "# These are effectively hard-coded OKH elements; we may\n",
    "# eventually have a way to import OKHs.\n",
    "# TODO: Shift seat to \"Frame, stuffing, upholstery\"\n",
    "# TODO: Shift to a mask\n",
    "c1  = supply.Supply(\"chair_1\",[\"chair\"],[\"leg\",\"seat\",\"back\"],chair_1 + 4*leg + seat + back)\n",
    "c2  = supply.Supply(\"chair_2\",[\"chair\"],[\"leg\",\"seat\",\"back\"],chair_2 + 4*leg + seat + back)\n",
    "l1  = supply.Supply(\"leg_1\",[\"leg\"],[],leg_1)\n",
    "s1  = supply.Supply(\"seat_1\",[\"seat\"],[],seat_1)\n",
    "s2  = supply.Supply(\"seat_2\",[\"seat\"],[\"fabric\",\"plane\"],seat_2 + fabric + plane)\n",
    "s3  = supply.Supply(\"seat_3\",[\"seat\"],[\"frame\",\"stuffing\",\"upholstery\"],seat_3 + frame + stuffing + upholstery)\n",
    "ss1 = supply.Supply(\"stuffing_1\",[\"stuffing\"],[],stuffing_1)\n",
    "b1  = supply.Supply(\"back_1\",[\"back\"],[],back_1)\n",
    "f1  = supply.Supply(\"fabric_1\",[\"fabric\"],[],fabric_1)\n",
    "f2  = supply.Supply(\"fabric_2\",[\"fabric\"],[],fabric_2)\n",
    "p1  = supply.Supply(\"plane_1\",[\"plane\"],[],plane_1)\n",
    "\n",
    "a = supply.SupplyNetwork(\"A\",[c1,c2,l1,s1,b1,s2,f1,p1,s3,ss1])\n",
    "\n",
    "A,B,C,X,Y = supply.symbols(\"A B C X Y\")\n",
    "A_1,B_1,C_1,X_1,Y_1 = supply.symbols(\"A_1 B_1 C_1 X_1 Y_1\")\n",
    "\n",
    "A1 = supply.Supply(\"A_1\",[\"A\"],[\"B\",\"C\"],A_1 + B + C )\n",
    "B1 = supply.Supply(\"B_1\",[\"B\"],[],B_1)\n",
    "C1 = supply.Supply(\"C_1\",[\"C\"],[],C_1)\n",
    "\n",
    "X1 = supply.Supply(\"X_1\",[\"X\"],[\"Y\"],X_1+Y)\n",
    "Y1 = supply.Supply(\"Y_1\",[\"Y\"],[],Y_1)\n",
    "\n",
    "xy = supply.SupplyNetwork(\"XY\",[X1,Y1])\n",
    "ab = supply.SupplyNetwork(\"AB\",[A1,B1])\n",
    "abc = supply.SupplyNetwork(\"ABC\",[A1,B1,C1])"
   ]
  },
  {
   "cell_type": "code",
   "execution_count": 9,
   "id": "60a51fb9-c036-4674-b35b-bb31413b1afb",
   "metadata": {},
   "outputs": [],
   "source": [
    "# SupplyTree is consistent only if the Supplies in the inputDict match the type\n",
    "sx = supply.SupplyTree(\n",
    "    c1,\n",
    "    {\n",
    "        \"leg\":  supply.SupplyTree(l1,{}),\n",
    "        \"seat\": supply.SupplyTree(s1,{}),\n",
    "        \"back\": supply.SupplyTree(b1,{})\n",
    "    }\n",
    ")"
   ]
  },
  {
   "cell_type": "code",
   "execution_count": 12,
   "id": "f224fff9-1fad-4e86-8dda-3e04e223b069",
   "metadata": {},
   "outputs": [
    {
     "name": "stdout",
     "output_type": "stream",
     "text": [
      "          chair:chair_1\n",
      "---------------------------------\n",
      "back:back_1,seat:seat_1,leg:leg_1\n",
      "back:back_1\n",
      "===========\n",
      "seat:seat_1\n",
      "===========\n",
      "leg:leg_1\n",
      "=========\n",
      "\n",
      "back_1 + chair_1 + 4*leg_1 + seat_1\n",
      "13\n",
      "          chair:chair_1\n",
      "---------------------------------\n",
      "back:back_1,seat:seat_2,leg:leg_1\n",
      "back:back_1\n",
      "===========\n",
      "         seat:seat_2\n",
      "-----------------------------\n",
      "plane:plane_1,fabric:fabric_1\n",
      "plane:plane_1\n",
      "=============\n",
      "fabric:fabric_1\n",
      "===============\n",
      "leg:leg_1\n",
      "=========\n",
      "\n",
      "back_1 + chair_1 + fabric_1 + 4*leg_1 + plane_1 + seat_2\n",
      "15\n",
      "          chair:chair_2\n",
      "---------------------------------\n",
      "back:back_1,seat:seat_1,leg:leg_1\n",
      "back:back_1\n",
      "===========\n",
      "seat:seat_1\n",
      "===========\n",
      "leg:leg_1\n",
      "=========\n",
      "\n",
      "back_1 + chair_2 + 4*leg_1 + seat_1\n",
      "12\n",
      "          chair:chair_2\n",
      "---------------------------------\n",
      "back:back_1,seat:seat_2,leg:leg_1\n",
      "back:back_1\n",
      "===========\n",
      "         seat:seat_2\n",
      "-----------------------------\n",
      "plane:plane_1,fabric:fabric_1\n",
      "plane:plane_1\n",
      "=============\n",
      "fabric:fabric_1\n",
      "===============\n",
      "leg:leg_1\n",
      "=========\n",
      "\n",
      "back_1 + chair_2 + fabric_1 + 4*leg_1 + plane_1 + seat_2\n",
      "14\n"
     ]
    }
   ],
   "source": [
    "# Print only those SupplyTrees which are complete in the \"chair\" problem\n",
    "for st in list(supply.SupplyProblem(\"chair\",a).completeSupplyTrees()):\n",
    "    print(st)\n",
    "    print(supply.characteristicExpression(st))\n",
    "    print(supply.characteristicExpression(st).subs(price_map))"
   ]
  },
  {
   "cell_type": "code",
   "execution_count": 15,
   "id": "34f527ec-0b80-46f3-a132-fa4777a08d02",
   "metadata": {},
   "outputs": [
    {
     "name": "stdout",
     "output_type": "stream",
     "text": [
      "          chair:chair_2\n",
      "---------------------------------\n",
      "back:back_1,seat:seat_2,leg:leg_1\n",
      "back:back_1\n",
      "===========\n",
      "         seat:seat_2\n",
      "-----------------------------\n",
      "plane:plane_1,fabric:fabric_1\n",
      "plane:plane_1\n",
      "=============\n",
      "fabric:fabric_1\n",
      "===============\n",
      "leg:leg_1\n",
      "=========\n",
      "\n"
     ]
    }
   ],
   "source": [
    "print(\n",
    "    supply.SupplyProblem(\"chair\",a).optimalCompleteSupplyTreeByPrice(price_map)[0]\n",
    ")\n"
   ]
  },
  {
   "cell_type": "markdown",
   "id": "e8d9d89c-22ad-45c8-9651-6ad1379eff88",
   "metadata": {},
   "source": [
    "---\n",
    "\n",
    "Todo! Put some text here explaining what the code is doing how with the OKH, OKW, OKF.\n",
    "\n",
    "---"
   ]
  },
  {
   "cell_type": "code",
   "execution_count": 16,
   "id": "c8ad176c-5a7b-4b5b-b72e-bd6d9baeb5e0",
   "metadata": {},
   "outputs": [],
   "source": [
    "# python has 'keyword arguments', useful here for clarity\n",
    "okh1 = okf.OKH(\n",
    "    name = \"SurgeMask\",\n",
    "    outputs = [\"mask\"],\n",
    "    inputs = [\"NWPP\", \"coffee_tin_ties\", \"fabric_ties\"],\n",
    "    requiredTooling = [\"sewing_machine\"],\n",
    "    eqn = \"no eqn yet\"\n",
    ")"
   ]
  },
  {
   "cell_type": "code",
   "execution_count": 18,
   "id": "28be0527-9daf-44b9-a226-64bce0032af4",
   "metadata": {},
   "outputs": [],
   "source": [
    "okw1 = okf.OKW(\n",
    "    name = \"NearJames\",\n",
    "    toolingGoods = [\"sewing_machine\"]\n",
    ")"
   ]
  },
  {
   "cell_type": "code",
   "execution_count": 19,
   "id": "221050e2-9027-4356-8517-da3720d70167",
   "metadata": {},
   "outputs": [],
   "source": [
    "okf1 = okf.OKF(\n",
    "    name = \"okf1\",\n",
    "    okhs = [okh1],\n",
    "    okws = [okw1]\n",
    ")"
   ]
  },
  {
   "cell_type": "markdown",
   "id": "f0594cd1-62a7-4eb7-add8-b46b7075da4f",
   "metadata": {},
   "source": [
    "---\n",
    "\n",
    "Now create a SupplyNetwork from the okf, and union it with our non-OKF supplies.."
   ]
  },
  {
   "cell_type": "code",
   "execution_count": 20,
   "id": "fd03eae5-463b-44e0-8587-fc666a459eee",
   "metadata": {},
   "outputs": [
    {
     "name": "stdout",
     "output_type": "stream",
     "text": [
      "mask:NearJames|SurgeMask\n",
      "========================\n",
      "\n"
     ]
    }
   ],
   "source": [
    "okf_sn = supply.SupplyNetwork(\"fromOKF\",okf1.supplies())\n",
    "combined = supply.unionSupplyNetworks(a,okf_sn)\n",
    "\n",
    "for st in list(supply.SupplyProblem(\"mask\",okf_sn)):\n",
    "    print(st)"
   ]
  },
  {
   "cell_type": "code",
   "execution_count": 21,
   "id": "1d782961-bef9-4ce9-819a-465dee2266f4",
   "metadata": {},
   "outputs": [
    {
     "ename": "NameError",
     "evalue": "name 'stage_graph' is not defined",
     "output_type": "error",
     "traceback": [
      "\u001b[0;31m---------------------------------------------------------------------------\u001b[0m",
      "\u001b[0;31mNameError\u001b[0m                                 Traceback (most recent call last)",
      "Cell \u001b[0;32mIn [21], line 1\u001b[0m\n\u001b[0;32m----> 1\u001b[0m sgc \u001b[38;5;241m=\u001b[39m \u001b[43mstage_graph\u001b[49m\u001b[38;5;241m.\u001b[39mStageGraph(\u001b[38;5;124m\"\u001b[39m\u001b[38;5;124mchair\u001b[39m\u001b[38;5;124m\"\u001b[39m,sx)\n\u001b[1;32m      2\u001b[0m sgc\u001b[38;5;241m.\u001b[39massertSupplyStatus(\u001b[38;5;124m\"\u001b[39m\u001b[38;5;124mseat_1\u001b[39m\u001b[38;5;124m\"\u001b[39m,StageStatus\u001b[38;5;241m.\u001b[39mFAILED)\n\u001b[1;32m      3\u001b[0m \u001b[38;5;28mprint\u001b[39m(sgc\u001b[38;5;241m.\u001b[39misComplete())\n",
      "\u001b[0;31mNameError\u001b[0m: name 'stage_graph' is not defined"
     ]
    }
   ],
   "source": [
    "sgc = stage_graph.StageGraph(\"chair\",sx)\n",
    "sgc.assertSupplyStatus(\"seat_1\",StageStatus.FAILED)\n",
    "print(sgc.isComplete())\n",
    "print(sgc.needsRepair())\n",
    "print(sgc.nameOfSupplyThatNeedsRepair())"
   ]
  },
  {
   "cell_type": "code",
   "execution_count": null,
   "id": "3ccf22f1-1695-4957-be13-3fbbe94ae822",
   "metadata": {},
   "outputs": [],
   "source": []
  }
 ],
 "metadata": {
  "kernelspec": {
   "display_name": "Python 3 (ipykernel)",
   "language": "python",
   "name": "python3"
  },
  "language_info": {
   "codemirror_mode": {
    "name": "ipython",
    "version": 3
   },
   "file_extension": ".py",
   "mimetype": "text/x-python",
   "name": "python",
   "nbconvert_exporter": "python",
   "pygments_lexer": "ipython3",
   "version": "3.10.8"
  }
 },
 "nbformat": 4,
 "nbformat_minor": 5
}
