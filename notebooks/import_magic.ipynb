{
 "cells": [
  {
   "cell_type": "markdown",
   "id": "f710f7aa-9fe1-4c74-88d6-8f2a12b56ece",
   "metadata": {},
   "source": [
    "The purpose of this notebook is to explain the \"import\" magic used in other notebooks, to get our libraries under `src` into the notebook.\n",
    "\n",
    "First, we get our **current working directory** as variable `_cwd`.\n",
    "\n",
    "---\n"
   ]
  },
  {
   "cell_type": "code",
   "execution_count": 1,
   "id": "10725eda-3eee-415b-9184-a5414c064574",
   "metadata": {},
   "outputs": [
    {
     "name": "stdout",
     "output_type": "stream",
     "text": [
      "/Users/lynn/proj/project-data-platform/notebooks\n"
     ]
    }
   ],
   "source": [
    "import os\n",
    "_cwd = os.getcwd()\n",
    "print(_cwd)\n"
   ]
  },
  {
   "cell_type": "markdown",
   "id": "3b9cf19e-9fb9-4eda-82be-ed798e5bff4f",
   "metadata": {},
   "source": [
    "---\n",
    "\n",
    "Wonderful! That looks like our directory. \n",
    "\n",
    "> **What's with the underscore?**\n",
    "> \n",
    "> This is convention, and there is no technical difference between `_cwd` and `cwd`. In Python convention, `_` means \"for internal use\". It prevents global variables from mucking up any autocomplete, or being accidentally used to contaminate across scopes.\n",
    "\n",
    "Now, we want to check (programatically) if we're in the `notebooks` folder or the `root` folder. Let's assume these are the only two possibilities.\n",
    "\n",
    "Most OSes use `/` seperators, but Windows machines use `\\`. Let's get this seperator:\n",
    "\n",
    "---\n"
   ]
  },
  {
   "cell_type": "code",
   "execution_count": 2,
   "id": "98175b0a-4133-4970-b17f-c801a636dfea",
   "metadata": {},
   "outputs": [
    {
     "name": "stdout",
     "output_type": "stream",
     "text": [
      "Your OS seems to use `/` to separate directories.\n"
     ]
    }
   ],
   "source": [
    "_sep = '/' if '/' in _cwd else '\\\\'\n",
    "print(f\"Your OS seems to use `{_sep}` to separate directories.\")\n"
   ]
  },
  {
   "cell_type": "markdown",
   "id": "b9c5c3df-595e-465b-bb23-b0f4c4a44a0d",
   "metadata": {},
   "source": [
    "---\n",
    "\n",
    "Now, let's actually do the check. Are we in `notebooks`? And if so, let's change directories.\n",
    "\n",
    "We pack a lot of functionality into one line. This can be tough for someone who is not Python familiar. Let's run it, then explain the block:\n",
    "\n",
    "---\n"
   ]
  },
  {
   "cell_type": "code",
   "execution_count": 3,
   "id": "fe4d046e-2493-42c9-9546-72a36c9ee844",
   "metadata": {},
   "outputs": [
    {
     "name": "stdout",
     "output_type": "stream",
     "text": [
      "Changed to /Users/lynn/proj/project-data-platform\n"
     ]
    }
   ],
   "source": [
    "if _cwd.split(_sep)[-1].strip().lower() == 'notebooks':\n",
    "    os.chdir('..')\n",
    "    print(f\"Changed to {os.getcwd()}\")"
   ]
  },
  {
   "cell_type": "markdown",
   "id": "534c29a9-1f54-4954-9e84-742c089f752f",
   "metadata": {},
   "source": [
    "---\n",
    "\n",
    "* `_cwd` is a string, e.g. `/home/lynn/proj/project-data-platform/notebooks`\n",
    "* `_cwd.split(_sep)` will split this into a list by the seperator:\n",
    "    - `['home', 'lynn', 'proj', 'project-data-platform', 'notebooks']\n",
    "* `_cwd.split(_sep)[-1]` will give us the last element in the list. Here, `\"notebooks\"`.\n",
    "* `.strip().lower()` is to address Windows dev envs, which might add whitespace or case-insensitivity\n",
    "\n",
    "Then, `os.chdir('..')` will move us up a directory. This does not change the value of `_cwd`.\n",
    "\n",
    "---\n",
    "\n",
    "Good! Now that we're in root, we can import our code from `src`:\n",
    "\n",
    "---"
   ]
  },
  {
   "cell_type": "code",
   "execution_count": 4,
   "id": "39cbc07c-a643-41eb-a3d5-650206cf8c4b",
   "metadata": {},
   "outputs": [],
   "source": [
    "import src.supply as supply\n",
    "import src.okf as okf\n",
    "import src.stage_graph as stage_graph"
   ]
  },
  {
   "cell_type": "markdown",
   "id": "d6d67d9e-90b9-4c23-b655-41cd9379b3a1",
   "metadata": {},
   "source": [
    "---\n",
    "\n",
    "If you get a `ModuleNotFoundError`, then take this notebook with a grain of salt (because it's evidently wrong).\n",
    "\n",
    "Now, let's finish up by returning to the previous directory:\n",
    "\n",
    "---"
   ]
  },
  {
   "cell_type": "code",
   "execution_count": 5,
   "id": "a41713bc-8df7-4b50-95aa-ea27a67bab54",
   "metadata": {},
   "outputs": [
    {
     "name": "stdout",
     "output_type": "stream",
     "text": [
      "We are now back in /Users/lynn/proj/project-data-platform/notebooks\n"
     ]
    }
   ],
   "source": [
    "os.chdir(_cwd)\n",
    "\n",
    "print(f\"We are now back in {os.getcwd()}\")"
   ]
  }
 ],
 "metadata": {
  "kernelspec": {
   "display_name": "Python 3 (ipykernel)",
   "language": "python",
   "name": "python3"
  },
  "language_info": {
   "codemirror_mode": {
    "name": "ipython",
    "version": 3
   },
   "file_extension": ".py",
   "mimetype": "text/x-python",
   "name": "python",
   "nbconvert_exporter": "python",
   "pygments_lexer": "ipython3",
   "version": "3.10.8"
  }
 },
 "nbformat": 4,
 "nbformat_minor": 5
}
